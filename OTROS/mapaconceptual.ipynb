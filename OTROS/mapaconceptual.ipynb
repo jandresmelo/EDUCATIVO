{
 "cells": [
  {
   "cell_type": "code",
   "execution_count": 1,
   "metadata": {},
   "outputs": [
    {
     "name": "stdout",
     "output_type": "stream",
     "text": [
      "CONTROL DE FLUJO DE DATOS\n",
      "|\n",
      "+-- Estructuras Condicionales\n",
      "|   |\n",
      "|   +-- IF - ELSE\n",
      "|   |\n",
      "|   +-- SWITCH\n",
      "|\n",
      "+-- Estructuras Cíclicas (Iteración)\n",
      "    |\n",
      "    +-- FOR\n",
      "    |\n",
      "    +-- WHILE\n",
      "    |\n",
      "    +-- DO WHILE\n"
     ]
    }
   ],
   "source": [
    "def mostrar_mapa_mental():\n",
    "    print(\"CONTROL DE FLUJO DE DATOS\")\n",
    "    print(\"|\")\n",
    "    print(\"+-- Estructuras Condicionales\")\n",
    "    print(\"|   |\")\n",
    "    print(\"|   +-- IF - ELSE\")\n",
    "    print(\"|   |\")\n",
    "    print(\"|   +-- SWITCH\")\n",
    "    print(\"|\")\n",
    "    print(\"+-- Estructuras Cíclicas (Iteración)\")\n",
    "    print(\"    |\")\n",
    "    print(\"    +-- FOR\")\n",
    "    print(\"    |\")\n",
    "    print(\"    +-- WHILE\")\n",
    "    print(\"    |\")\n",
    "    print(\"    +-- DO WHILE\")\n",
    "\n",
    "# Llamar la función para mostrar el mapa mental\n",
    "mostrar_mapa_mental()\n"
   ]
  }
 ],
 "metadata": {
  "kernelspec": {
   "display_name": "base",
   "language": "python",
   "name": "python3"
  },
  "language_info": {
   "codemirror_mode": {
    "name": "ipython",
    "version": 3
   },
   "file_extension": ".py",
   "mimetype": "text/x-python",
   "name": "python",
   "nbconvert_exporter": "python",
   "pygments_lexer": "ipython3",
   "version": "3.12.4"
  }
 },
 "nbformat": 4,
 "nbformat_minor": 2
}
